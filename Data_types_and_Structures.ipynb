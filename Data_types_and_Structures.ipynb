{
  "nbformat": 4,
  "nbformat_minor": 0,
  "metadata": {
    "colab": {
      "provenance": []
    },
    "kernelspec": {
      "name": "python3",
      "display_name": "Python 3"
    },
    "language_info": {
      "name": "python"
    }
  },
  "cells": [
    {
      "cell_type": "markdown",
      "source": [
        "#Theory Questions"
      ],
      "metadata": {
        "id": "_7w1-_sWXoWB"
      }
    },
    {
      "cell_type": "code",
      "source": [
        "#1. What are data structures, and why are they important?\n",
        "\"\"\" Data structures in python are specialized formats or containers used to store and organise data efficiently. They provide various ways to store, access,\n",
        "and manipulate data according to various needs.\n",
        "Data structures are important because:\n",
        "1- They organise and store data efficiently.\n",
        "2- They optimise performance.\n",
        "3- They make problem solving easier.\n",
        "4- They are used in real world applications like databases, operating systems, and social media.\n",
        "5- They make searching and sorting faster.\"\"\""
      ],
      "metadata": {
        "colab": {
          "base_uri": "https://localhost:8080/",
          "height": 87
        },
        "id": "P4IWNBCyXxY_",
        "outputId": "60a85d71-615a-46fd-b1c1-83b66e23f1e0"
      },
      "execution_count": 52,
      "outputs": [
        {
          "output_type": "execute_result",
          "data": {
            "text/plain": [
              "' Data structures in python are specialized formats or containers used to store and organise data efficiently. They provide various ways to store, access,\\nand manipulate data according to various needs.\\nData structures are important because:\\n1- They organise and store data efficiently.\\n2- They optimise performance.\\n3- They make problem solving easier.\\n4- They are used in real world applications like databases, operating systems, and social media.\\n5- They make searching and sorting faster.'"
            ],
            "application/vnd.google.colaboratory.intrinsic+json": {
              "type": "string"
            }
          },
          "metadata": {},
          "execution_count": 52
        }
      ]
    },
    {
      "cell_type": "code",
      "source": [
        "#2. Explain the difference between mutable and immutable data types with examples.\n",
        "\"\"\" Mutable data types:- Data types whose values can be changed after creation.\n",
        "For example:- List, dict, set\"\"\"\n",
        "#Example:\n",
        "numbers = [1, 2, 3]\n",
        "numbers[0] = 50\n",
        "print(numbers)\n",
        "\"\"\" Immutable data types:- Data types whose values cannot be changed after creation.\n",
        "For example:- string, tuple.\"\"\"\n",
        "#Example:\n",
        "\"\"\"name = \"naina\"\n",
        "name[0] = \"s\" # Shows error as strings cannot be changed.\n",
        "print(name)\"\"\""
      ],
      "metadata": {
        "colab": {
          "base_uri": "https://localhost:8080/",
          "height": 53
        },
        "id": "aGBLQ10yZzR9",
        "outputId": "186cc084-c9ba-462e-ee05-2ea8b5d00929"
      },
      "execution_count": 103,
      "outputs": [
        {
          "output_type": "stream",
          "name": "stdout",
          "text": [
            "[50, 2, 3]\n"
          ]
        },
        {
          "output_type": "execute_result",
          "data": {
            "text/plain": [
              "'name = \"naina\"\\nname[0] = \"s\" # Shows error as strings cannot be changed.\\nprint(name)'"
            ],
            "application/vnd.google.colaboratory.intrinsic+json": {
              "type": "string"
            }
          },
          "metadata": {},
          "execution_count": 103
        }
      ]
    },
    {
      "cell_type": "code",
      "source": [
        "#3. What are main differences between lists and tuples in Python?\n",
        "\"\"\" The main differences between lists and tuples in python are that lists are mutable and slower, and written with [].\n",
        "while tuples are immutable and faster and written with ().\"\"\""
      ],
      "metadata": {
        "colab": {
          "base_uri": "https://localhost:8080/",
          "height": 53
        },
        "id": "NsFeQlgugVPW",
        "outputId": "5dba76b0-b1ca-4589-eac4-88d5548ff564"
      },
      "execution_count": 54,
      "outputs": [
        {
          "output_type": "execute_result",
          "data": {
            "text/plain": [
              "' The main differences between lists and tuples in python are that lists are mutable and slower, and written with [].\\nwhile tuples are immutable and faster and written with ().'"
            ],
            "application/vnd.google.colaboratory.intrinsic+json": {
              "type": "string"
            }
          },
          "metadata": {},
          "execution_count": 54
        }
      ]
    },
    {
      "cell_type": "code",
      "source": [
        "#4. Describe how dictionaries store data.\n",
        "\"\"\" Dictionaries store data in key-value pairs using a hash table for faster lookup.\n",
        "It store and retrieve data based on unique key. The keys must be immutable.\"\"\""
      ],
      "metadata": {
        "colab": {
          "base_uri": "https://localhost:8080/",
          "height": 53
        },
        "id": "AVBhW5pHgV6x",
        "outputId": "f676e415-da93-4922-bd84-a00b4bcf493a"
      },
      "execution_count": 55,
      "outputs": [
        {
          "output_type": "execute_result",
          "data": {
            "text/plain": [
              "' Dictionaries store data in key-value pairs using a hash table for faster lookup.\\nIt store and retrieve data based on unique key. The keys must be immutable.'"
            ],
            "application/vnd.google.colaboratory.intrinsic+json": {
              "type": "string"
            }
          },
          "metadata": {},
          "execution_count": 55
        }
      ]
    },
    {
      "cell_type": "code",
      "source": [
        "#5. Why might you use a set instead of a list in Python?\n",
        "\"\"\" We use set instead of a list in Pyton because:\n",
        "1- Sets avoid duplicates.\n",
        "2- Sets provide faster lookup.\n",
        "3- Sets are unordered.\n",
        "4- Sets supports union, intersection, and difference operations.\n",
        "5- Sets supports quick membership check.\"\"\""
      ],
      "metadata": {
        "colab": {
          "base_uri": "https://localhost:8080/",
          "height": 53
        },
        "id": "R5BpArqrgV-E",
        "outputId": "feddbeb8-a17f-4766-9dbf-f958fe36e3d2"
      },
      "execution_count": 56,
      "outputs": [
        {
          "output_type": "execute_result",
          "data": {
            "text/plain": [
              "' We use set instead of a list in Pyton because:\\n1- Sets avoid duplicates.\\n2- Sets provide faster lookup.\\n3- Sets are unordered.\\n4- Sets supports union, intersection, and difference operations.\\n5- Sets supports quick membership check.'"
            ],
            "application/vnd.google.colaboratory.intrinsic+json": {
              "type": "string"
            }
          },
          "metadata": {},
          "execution_count": 56
        }
      ]
    },
    {
      "cell_type": "code",
      "source": [
        "#6. What is a string in Python, and how is it different from a list?\n",
        "\"\"\" A string is a sequence of characters, string is immutable. While a list is a sequence of elements and list is mutable.\"\"\""
      ],
      "metadata": {
        "colab": {
          "base_uri": "https://localhost:8080/",
          "height": 35
        },
        "id": "__OHV7FLBAKi",
        "outputId": "51b1828f-f617-4ed2-89b3-1861213b3e94"
      },
      "execution_count": 57,
      "outputs": [
        {
          "output_type": "execute_result",
          "data": {
            "text/plain": [
              "' A string is a sequence of characters, string is immutable. While a list is a sequence of elements and list is mutable.'"
            ],
            "application/vnd.google.colaboratory.intrinsic+json": {
              "type": "string"
            }
          },
          "metadata": {},
          "execution_count": 57
        }
      ]
    },
    {
      "cell_type": "code",
      "source": [
        "#7. How do tuples ensure data integrity in Python?\n",
        "\"\"\" Tuples are immutable, so data inside them cannot be changed, ensuring it remains safe and consistent. Hence, they are used to ensure data integrity.\"\"\""
      ],
      "metadata": {
        "colab": {
          "base_uri": "https://localhost:8080/",
          "height": 35
        },
        "id": "HE-pdD0WBANs",
        "outputId": "076709d6-1dab-4eb6-8c12-aa19b3f1f259"
      },
      "execution_count": 58,
      "outputs": [
        {
          "output_type": "execute_result",
          "data": {
            "text/plain": [
              "' Tuples are immutable, so data inside them cannot be changed, ensuring it remains safe and consistent. Hence, they are used to ensure data integrity.'"
            ],
            "application/vnd.google.colaboratory.intrinsic+json": {
              "type": "string"
            }
          },
          "metadata": {},
          "execution_count": 58
        }
      ]
    },
    {
      "cell_type": "code",
      "source": [
        "#8. What is hash table, and how does it relate to dictionaries in Python?\n",
        "\"\"\" A hash table is a special data structure that stores data in key-value pairs. It uses hash function to convert each key into a unique number\n",
        "called a hash value. This number decides where the key-value pair is stored in memory. Python dictionaries use hash table for fast key lookup.\n",
        "Relation to dictionaries in python:\n",
        "1- Python dictionaries are built on hash tables.\n",
        "2- Keys must be hashable( immutable types like strings, tuples).\n",
        "3- Values can be of any type. \"\"\""
      ],
      "metadata": {
        "colab": {
          "base_uri": "https://localhost:8080/",
          "height": 70
        },
        "id": "zXj2nOYEBQ8T",
        "outputId": "fc38dab3-d26e-43d1-d157-d9c479c1127a"
      },
      "execution_count": 59,
      "outputs": [
        {
          "output_type": "execute_result",
          "data": {
            "text/plain": [
              "' A hash table is a special data structure that stores data in key-value pairs. It uses hash function to convert each key into a unique number \\ncalled a hash value. This number decides where the key-value pair is stored in memory. Python dictionaries use hash table for fast key lookup.\\nRelation to dictionaries in python:\\n1- Python dictionaries are built on hash tables.\\n2- Keys must be hashable( immutable types like strings, tuples).\\n3- Values can be of any type. '"
            ],
            "application/vnd.google.colaboratory.intrinsic+json": {
              "type": "string"
            }
          },
          "metadata": {},
          "execution_count": 59
        }
      ]
    },
    {
      "cell_type": "code",
      "source": [
        "#9. Can lists contain different data types in Python?\n",
        "\"\"\" Yes, lists can contain different data types in python.\n",
        "For Example:\"\"\"\n",
        "a = [1, \"Hello\", 3.5]"
      ],
      "metadata": {
        "id": "T7_p5RIHBRIZ"
      },
      "execution_count": 60,
      "outputs": []
    },
    {
      "cell_type": "code",
      "source": [
        "#10. Explain why strings are immutable in Python.\n",
        "\"\"\" Strings are immutable to save memory, allow caching, and ensuring data safety. Once created, they cannot be changed.\"\"\""
      ],
      "metadata": {
        "colab": {
          "base_uri": "https://localhost:8080/",
          "height": 35
        },
        "id": "Dc9QCKCJBRUu",
        "outputId": "3bf0c598-8d8c-4e7c-e5e5-6614bf04b733"
      },
      "execution_count": 61,
      "outputs": [
        {
          "output_type": "execute_result",
          "data": {
            "text/plain": [
              "' Strings are immutable to save memory, allow caching, and ensuring data safety. Once created, they cannot be changed.'"
            ],
            "application/vnd.google.colaboratory.intrinsic+json": {
              "type": "string"
            }
          },
          "metadata": {},
          "execution_count": 61
        }
      ]
    },
    {
      "cell_type": "code",
      "source": [
        "#11. What advantages do dictionaries offer over lists for certain tasks?\n",
        "\"\"\" The advantages of dictionaries over lists are:-\n",
        "1- Faster lookup by key.\n",
        "2- Store data as key- value pairs.\n",
        "3- More meaningful than list indices.\n",
        "4- Dictionaries are efficent for large datasets.\n",
        "5- Dictionaries are used in real world applications.\"\"\""
      ],
      "metadata": {
        "colab": {
          "base_uri": "https://localhost:8080/",
          "height": 53
        },
        "id": "PSPrzOhLBpuY",
        "outputId": "477176ef-ec02-4c86-9663-fefda5c75883"
      },
      "execution_count": 62,
      "outputs": [
        {
          "output_type": "execute_result",
          "data": {
            "text/plain": [
              "' The advantages of dictionaries over lists are:-\\n1- Faster lookup by key.\\n2- Store data as key- value pairs.\\n3- More meaningful than list indices.\\n4- Dictionaries are efficent for large datasets.\\n5- Dictionaries are used in real world applications.'"
            ],
            "application/vnd.google.colaboratory.intrinsic+json": {
              "type": "string"
            }
          },
          "metadata": {},
          "execution_count": 62
        }
      ]
    },
    {
      "cell_type": "code",
      "source": [
        "#12. Describe a scenario where using a tuple would be preferable over a list.\n",
        "\"\"\" Tuples use less memory than lists. They are also a bit faster, and tuples are immutable.\n",
        " So, if we have data that we don't want to change, it's better to use tuples instead of lists.\n",
        " For example, we can use tuples to represent Cartesian coordinates (x, y) , records in a database table (name, age, job),\n",
        " or days of week where values should not change. \"\"\""
      ],
      "metadata": {
        "colab": {
          "base_uri": "https://localhost:8080/",
          "height": 70
        },
        "id": "FCKkbUngBp3M",
        "outputId": "b8077111-b5a0-45f7-9cf9-675d56c0f656"
      },
      "execution_count": 63,
      "outputs": [
        {
          "output_type": "execute_result",
          "data": {
            "text/plain": [
              "\" Tuples use less memory than lists. They are also a bit faster, and tuples are immutable.\\n So, if we have data that we don't want to change, it's better to use tuples instead of lists.\\n For example, we can use tuples to represent Cartesian coordinates (x, y) , records in a database table (name, age, job),\\n or days of week where values should not change. \""
            ],
            "application/vnd.google.colaboratory.intrinsic+json": {
              "type": "string"
            }
          },
          "metadata": {},
          "execution_count": 63
        }
      ]
    },
    {
      "cell_type": "code",
      "source": [
        "#13. How do sets handle duplicate value in Python?\n",
        "\"\"\" Set in Python is an unordered collection of unique elements. This means no element appears more than once inside a set.\n",
        "when we add element to a set Python internally uses a hash table. Each element's hasah value is calculated to decide where it should be stored.\n",
        "If a new element has the same value as an existing one, Python checks and ignores it, keeping only one copy.\n",
        "i.e sets automatically remove duplicate values.\"\"\""
      ],
      "metadata": {
        "colab": {
          "base_uri": "https://localhost:8080/",
          "height": 70
        },
        "id": "zVUub1cqBp_B",
        "outputId": "6aac9fca-465b-4b15-a41c-e7b3ce950442"
      },
      "execution_count": 64,
      "outputs": [
        {
          "output_type": "execute_result",
          "data": {
            "text/plain": [
              "\" Set in Python is an unordered collection of unique elements. This means no element appears more than once inside a set.\\nwhen we add element to a set Python internally uses a hash table. Each element's hasah value is calculated to decide where it should be stored.\\nIf a new element has the same value as an existing one, Python checks and ignores it, keeping only one copy. \\ni.e sets automatically remove duplicate values.\""
            ],
            "application/vnd.google.colaboratory.intrinsic+json": {
              "type": "string"
            }
          },
          "metadata": {},
          "execution_count": 64
        }
      ]
    },
    {
      "cell_type": "code",
      "source": [
        "#14. How does the \"in\" keyword work differently for lists and dictionaries?\n",
        "\"\"\" The in keyword in lists checks if the element is present in the list or not whereas in dictionaries it checks if the key is present(not the value)\n",
        "in the dictionary or not.\n",
        "For example:\"\"\"\n",
        "# Using \"in\" with a LIST\n",
        "fruits = [\"apple\", \"banana\", \"mango\"]\n",
        "print(\"apple\" in fruits)   # True (checks values)\n",
        "print(\"grape\" in fruits)   # False\n",
        "\n",
        "# Using \"in\" with a DICTIONARY\n",
        "student = {\"name\": \"Aarav\", \"age\": 15}\n",
        "print(\"name\" in student)   # True (checks keys)\n",
        "print(\"Aarav\" in student)  # False (values not checked)"
      ],
      "metadata": {
        "colab": {
          "base_uri": "https://localhost:8080/"
        },
        "id": "wdLZEG5YBqFB",
        "outputId": "84a1cdb1-4f79-4b71-cb97-2a0b112f232f"
      },
      "execution_count": 65,
      "outputs": [
        {
          "output_type": "stream",
          "name": "stdout",
          "text": [
            "True\n",
            "False\n",
            "True\n",
            "False\n"
          ]
        }
      ]
    },
    {
      "cell_type": "code",
      "source": [
        "#15. Can you modify the elements of a tuple? Explain why or why not.\n",
        "\"\"\" No, we cannot modify elements of a tuple because tuples are immutable, meaning values inside it can not be changed after creation.\"\"\""
      ],
      "metadata": {
        "colab": {
          "base_uri": "https://localhost:8080/",
          "height": 35
        },
        "id": "ojZ0AGQZBqMD",
        "outputId": "f1883c76-1d41-4c8f-f6ef-deac19ef4c66"
      },
      "execution_count": 66,
      "outputs": [
        {
          "output_type": "execute_result",
          "data": {
            "text/plain": [
              "' No, we cannot modify elements of a tuple because tuples are immutable, meaning values inside it can not be changed after creation.'"
            ],
            "application/vnd.google.colaboratory.intrinsic+json": {
              "type": "string"
            }
          },
          "metadata": {},
          "execution_count": 66
        }
      ]
    },
    {
      "cell_type": "code",
      "source": [
        "#16. What is a nested dictionary, and give an example of its use case?\n",
        "\"\"\" A dictionary inside a another dictionary is known as a nested dictionary. it is useful for storing structured data.\n",
        "For example:\"\"\"\n",
        "student = {\"name\": \"Aarav\", \"marks\": {\"math\":90, \"science\":85}}"
      ],
      "metadata": {
        "id": "-4r5Dj5vBqVK"
      },
      "execution_count": 67,
      "outputs": []
    },
    {
      "cell_type": "code",
      "source": [
        "#17.Describe the time complexity of accessing elements in a dictionary.\n",
        "\"\"\" Accessing elements in a dictionary, such as retrieving a value by its key or checking for the existence of a key, typically has an average time complexity\n",
        "of O(1) (constant time). This efficiency is due to dictionaries being implemented as hash tables.\"\"\""
      ],
      "metadata": {
        "colab": {
          "base_uri": "https://localhost:8080/",
          "height": 53
        },
        "id": "0g1Tc5QqBqde",
        "outputId": "5d47de07-780c-434b-ff48-4a6c73a4373d"
      },
      "execution_count": 68,
      "outputs": [
        {
          "output_type": "execute_result",
          "data": {
            "text/plain": [
              "' Accessing elements in a dictionary, such as retrieving a value by its key or checking for the existence of a key, typically has an average time complexity\\nof O(1) (constant time). This efficiency is due to dictionaries being implemented as hash tables.'"
            ],
            "application/vnd.google.colaboratory.intrinsic+json": {
              "type": "string"
            }
          },
          "metadata": {},
          "execution_count": 68
        }
      ]
    },
    {
      "cell_type": "code",
      "source": [
        "#18. In what situations are lists preferred over dictionaries?\n",
        "\"\"\" Lists are preferred over dictionaries in the following conditions:\n",
        "1- When order matters.\n",
        "2- When duplicate values are needed.\n",
        "3- When indexing by position is required.\"\"\""
      ],
      "metadata": {
        "colab": {
          "base_uri": "https://localhost:8080/",
          "height": 53
        },
        "id": "pkpNRFINDA4A",
        "outputId": "778951c1-8846-4296-d490-3ca765aa4edc"
      },
      "execution_count": 69,
      "outputs": [
        {
          "output_type": "execute_result",
          "data": {
            "text/plain": [
              "' Lists are preferred over dictionaries in the following conditions:\\n1- When order matters.\\n2- When duplicate values are needed.\\n3- When indexing by position is required.'"
            ],
            "application/vnd.google.colaboratory.intrinsic+json": {
              "type": "string"
            }
          },
          "metadata": {},
          "execution_count": 69
        }
      ]
    },
    {
      "cell_type": "code",
      "source": [
        "#19. Why are dictionaries considered unordered, and how does that affect data retrieval?\n",
        "\"\"\" Dictionaries store items by hash, not by position. Keys do not have a fixed order, so we access values by keys, not by index.\"\"\""
      ],
      "metadata": {
        "colab": {
          "base_uri": "https://localhost:8080/",
          "height": 35
        },
        "id": "fZpdVvDxDBFF",
        "outputId": "299fb041-e1e3-47da-ee2e-c5e78e640bd8"
      },
      "execution_count": 70,
      "outputs": [
        {
          "output_type": "execute_result",
          "data": {
            "text/plain": [
              "' Dictionaries store items by hash, not by position. Keys do not have a fixed order, so we access values by keys, not by index.'"
            ],
            "application/vnd.google.colaboratory.intrinsic+json": {
              "type": "string"
            }
          },
          "metadata": {},
          "execution_count": 70
        }
      ]
    },
    {
      "cell_type": "code",
      "source": [
        "#20. Explain the difference between a list and a dictionary in terms of data retrieval.\n",
        "\"\"\" List retrieve data by the index number whereas dictionaries retrive data by keys.\"\"\""
      ],
      "metadata": {
        "colab": {
          "base_uri": "https://localhost:8080/",
          "height": 35
        },
        "id": "Hp6y1AwuDBSM",
        "outputId": "e689453b-b48d-4cfa-ee19-76172c6a1bf4"
      },
      "execution_count": 71,
      "outputs": [
        {
          "output_type": "execute_result",
          "data": {
            "text/plain": [
              "' List retrieve data by the index number whereas dictionaries retrive data by keys.'"
            ],
            "application/vnd.google.colaboratory.intrinsic+json": {
              "type": "string"
            }
          },
          "metadata": {},
          "execution_count": 71
        }
      ]
    },
    {
      "cell_type": "markdown",
      "source": [
        "#Practical Questions"
      ],
      "metadata": {
        "id": "RVOEQqnTDuzw"
      }
    },
    {
      "cell_type": "code",
      "source": [
        "#1. Write a code to create a string with your name and print it.\n",
        "name = \"Naina\"\n",
        "print(name)"
      ],
      "metadata": {
        "colab": {
          "base_uri": "https://localhost:8080/"
        },
        "id": "dZkmGEGhD4dv",
        "outputId": "96c40885-c565-4929-c642-6643ee5acf76"
      },
      "execution_count": 72,
      "outputs": [
        {
          "output_type": "stream",
          "name": "stdout",
          "text": [
            "Naina\n"
          ]
        }
      ]
    },
    {
      "cell_type": "code",
      "source": [
        "#2. Write a code to find the length of the string \"Hello World\".\n",
        "s = \"Hello World\"\n",
        "print(len(s))"
      ],
      "metadata": {
        "colab": {
          "base_uri": "https://localhost:8080/"
        },
        "id": "-0zVhDXDEGgP",
        "outputId": "8decf2be-1356-4fe5-9094-059d3a73c94b"
      },
      "execution_count": 73,
      "outputs": [
        {
          "output_type": "stream",
          "name": "stdout",
          "text": [
            "11\n"
          ]
        }
      ]
    },
    {
      "cell_type": "code",
      "source": [
        "#3. Write a code to slice the first 3 characters from the string \"Python Programming\".\n",
        "s = \"Python Programming\"\n",
        "print(s[:3])"
      ],
      "metadata": {
        "colab": {
          "base_uri": "https://localhost:8080/"
        },
        "id": "KRDFdecpEGpD",
        "outputId": "f67ea10e-bdf7-4f6e-fd65-b7898a36e754"
      },
      "execution_count": 74,
      "outputs": [
        {
          "output_type": "stream",
          "name": "stdout",
          "text": [
            "Pyt\n"
          ]
        }
      ]
    },
    {
      "cell_type": "code",
      "source": [
        "#4. Write a code to convert the string \"hello\" to uppercase.\n",
        "a = \"hello\"\n",
        "print(a.upper())"
      ],
      "metadata": {
        "colab": {
          "base_uri": "https://localhost:8080/"
        },
        "id": "yso1_ZtMEGxb",
        "outputId": "09df2188-fba7-4ac7-8360-240a0ac0387c"
      },
      "execution_count": 75,
      "outputs": [
        {
          "output_type": "stream",
          "name": "stdout",
          "text": [
            "HELLO\n"
          ]
        }
      ]
    },
    {
      "cell_type": "code",
      "source": [
        "#5. Write a code to replace the word \"apple\" with \"orange\" in the string \"I like apple\".\n",
        "b = \" I like apple\"\n",
        "print(b.replace(\"apple\", \"orange\"))"
      ],
      "metadata": {
        "colab": {
          "base_uri": "https://localhost:8080/"
        },
        "id": "iRAHBgBEEG7I",
        "outputId": "2ed8dc6e-3a1b-48b5-d448-027fe24da0da"
      },
      "execution_count": 104,
      "outputs": [
        {
          "output_type": "stream",
          "name": "stdout",
          "text": [
            " I like orange\n"
          ]
        }
      ]
    },
    {
      "cell_type": "code",
      "source": [
        "#6. Write a code to  create a list with numbers 1 to 5 and print it.\n",
        "numbers = [1, 2, 3, 4, 5]\n",
        "print(numbers)"
      ],
      "metadata": {
        "colab": {
          "base_uri": "https://localhost:8080/"
        },
        "id": "Z0A8Hh36EG-p",
        "outputId": "21427e00-c176-49ad-e872-7882ba776317"
      },
      "execution_count": 77,
      "outputs": [
        {
          "output_type": "stream",
          "name": "stdout",
          "text": [
            "[1, 2, 3, 4, 5]\n"
          ]
        }
      ]
    },
    {
      "cell_type": "code",
      "source": [
        "#7. Write a code to append the number 10 to the list [1,2,3,4].\n",
        "nums = [1,2,3,4]\n",
        "nums.append(10)\n",
        "print(nums)"
      ],
      "metadata": {
        "colab": {
          "base_uri": "https://localhost:8080/"
        },
        "id": "OvapeVrhEHGu",
        "outputId": "bdc8a9bf-2143-4f94-e02d-ac239d671b41"
      },
      "execution_count": 78,
      "outputs": [
        {
          "output_type": "stream",
          "name": "stdout",
          "text": [
            "[1, 2, 3, 4, 10]\n"
          ]
        }
      ]
    },
    {
      "cell_type": "code",
      "source": [
        "#8. Write a code to remove the number 3 from the list [1,2,3,4,5].\n",
        "num = [2,3,4,5]\n",
        "num.remove(3)\n",
        "print(num)"
      ],
      "metadata": {
        "colab": {
          "base_uri": "https://localhost:8080/"
        },
        "id": "Ugl_sg4VEHOY",
        "outputId": "d0380fb7-d142-44e0-caf4-8c50a42f4d0d"
      },
      "execution_count": 79,
      "outputs": [
        {
          "output_type": "stream",
          "name": "stdout",
          "text": [
            "[2, 4, 5]\n"
          ]
        }
      ]
    },
    {
      "cell_type": "code",
      "source": [
        "#9. Write a code to access the second element in the list ['a','b','c','d'].\n",
        "letters = ['a','b','c','d']\n",
        "print(letters[1])"
      ],
      "metadata": {
        "colab": {
          "base_uri": "https://localhost:8080/"
        },
        "id": "V3tniE82F5Tx",
        "outputId": "4a717a76-470e-4555-b159-52df13efd471"
      },
      "execution_count": 80,
      "outputs": [
        {
          "output_type": "stream",
          "name": "stdout",
          "text": [
            "b\n"
          ]
        }
      ]
    },
    {
      "cell_type": "code",
      "source": [
        "#10. Write a code to reverse the list [10,20,30,40,50].\n",
        "lst = [10,20,30,40,50]\n",
        "print(lst[ : : -1])"
      ],
      "metadata": {
        "colab": {
          "base_uri": "https://localhost:8080/"
        },
        "id": "ZB-Kvvs3F5XC",
        "outputId": "73db684b-4a4f-48fa-c8cd-de9901573d7f"
      },
      "execution_count": 81,
      "outputs": [
        {
          "output_type": "stream",
          "name": "stdout",
          "text": [
            "[50, 40, 30, 20, 10]\n"
          ]
        }
      ]
    },
    {
      "cell_type": "code",
      "source": [
        "#11. Write a code to create a tuple with the elements 100, 200, 300 and print it.\n",
        "t = (100, 200, 300)\n",
        "print(t)"
      ],
      "metadata": {
        "colab": {
          "base_uri": "https://localhost:8080/"
        },
        "id": "MlR0CXa_F5aM",
        "outputId": "8b2b7020-1c48-4c04-eadd-7d61ba631959"
      },
      "execution_count": 82,
      "outputs": [
        {
          "output_type": "stream",
          "name": "stdout",
          "text": [
            "(100, 200, 300)\n"
          ]
        }
      ]
    },
    {
      "cell_type": "code",
      "source": [
        "#12. Write a code to access the second-to-last element of the tuple ('red', 'green', 'blue', 'yellow').\n",
        "colors = ('red', 'green', 'blue', 'yellow')\n",
        "print(colors[-2])"
      ],
      "metadata": {
        "colab": {
          "base_uri": "https://localhost:8080/"
        },
        "id": "OMyu2D9IF5da",
        "outputId": "4a2cf99d-1154-4312-d810-7d4e1db19264"
      },
      "execution_count": 83,
      "outputs": [
        {
          "output_type": "stream",
          "name": "stdout",
          "text": [
            "blue\n"
          ]
        }
      ]
    },
    {
      "cell_type": "code",
      "source": [
        "#13. Write a code to find the minimum number in tuple (10, 20, 5, 15).\n",
        "nums = (10, 20, 5, 15)\n",
        "print(min(nums))"
      ],
      "metadata": {
        "colab": {
          "base_uri": "https://localhost:8080/"
        },
        "id": "hZuQDmHpF5g1",
        "outputId": "4b9c5d2b-7f56-4923-9b06-deb4d15ad737"
      },
      "execution_count": 84,
      "outputs": [
        {
          "output_type": "stream",
          "name": "stdout",
          "text": [
            "5\n"
          ]
        }
      ]
    },
    {
      "cell_type": "code",
      "source": [
        "#14. Write a code to find the index of element \"cat\" in the tuple ('dog', 'cat', 'rabbit').\n",
        "animals = ('dog', 'cat', 'rabbit')\n",
        "print(animals.index(\"cat\"))"
      ],
      "metadata": {
        "colab": {
          "base_uri": "https://localhost:8080/"
        },
        "id": "1xhi8GiBF5kl",
        "outputId": "8bf0f6a6-fcd4-4c32-ad77-b29065bc24f1"
      },
      "execution_count": 85,
      "outputs": [
        {
          "output_type": "stream",
          "name": "stdout",
          "text": [
            "1\n"
          ]
        }
      ]
    },
    {
      "cell_type": "code",
      "source": [
        "#15. Write a code to create a tuple containing three different fruits and check if \"kiwi\" is in it.\n",
        "fruits = (\"apple\", \"banana\", \"kiwi\")\n",
        "print(\"kiwi\" in fruits)"
      ],
      "metadata": {
        "colab": {
          "base_uri": "https://localhost:8080/"
        },
        "id": "17v573IlF5ri",
        "outputId": "259b55b4-ab99-455f-9bd5-e2548f9c0991"
      },
      "execution_count": 86,
      "outputs": [
        {
          "output_type": "stream",
          "name": "stdout",
          "text": [
            "True\n"
          ]
        }
      ]
    },
    {
      "cell_type": "code",
      "source": [
        "#16. write a code to create a set with the elements 'a', 'b', 'c' and print it.\n",
        "letters = {'a', 'b', 'c'}\n",
        "print(letters)"
      ],
      "metadata": {
        "colab": {
          "base_uri": "https://localhost:8080/"
        },
        "id": "Qk0KqS2bHiJQ",
        "outputId": "5f6f66a2-bcb8-4ab5-9c20-f5bb47152613"
      },
      "execution_count": 87,
      "outputs": [
        {
          "output_type": "stream",
          "name": "stdout",
          "text": [
            "{'b', 'a', 'c'}\n"
          ]
        }
      ]
    },
    {
      "cell_type": "code",
      "source": [
        "#17. Write a code to clear all elements from the set {1,2,3,4,5}.\n",
        "z = {1,2,3,4,5}\n",
        "z.clear()\n",
        "print(z)"
      ],
      "metadata": {
        "colab": {
          "base_uri": "https://localhost:8080/"
        },
        "id": "9JmJp0tCHiSJ",
        "outputId": "11d25252-a99c-4de7-d578-da8d1fe21905"
      },
      "execution_count": 105,
      "outputs": [
        {
          "output_type": "stream",
          "name": "stdout",
          "text": [
            "set()\n"
          ]
        }
      ]
    },
    {
      "cell_type": "code",
      "source": [
        "#18. Write a code to remove the element 4 from the set {1,2,3,4}.\n",
        "x = {1,2,3,4}\n",
        "x.remove(4)\n",
        "print(x)"
      ],
      "metadata": {
        "colab": {
          "base_uri": "https://localhost:8080/"
        },
        "id": "iLMp0sNvHicQ",
        "outputId": "066d222c-544f-4020-8cdf-cc21da324ea2"
      },
      "execution_count": 89,
      "outputs": [
        {
          "output_type": "stream",
          "name": "stdout",
          "text": [
            "{1, 2, 3}\n"
          ]
        }
      ]
    },
    {
      "cell_type": "code",
      "source": [
        "#19. Write a code to find the union of two sets {1,2,3} and{3,4,5}.\n",
        "n = {1,2,3}\n",
        "m = {3,4,5}\n",
        "print(n.union(m))"
      ],
      "metadata": {
        "colab": {
          "base_uri": "https://localhost:8080/"
        },
        "id": "jKtYABovHil_",
        "outputId": "15558594-3fd2-4fcc-eefd-da7291f72693"
      },
      "execution_count": 90,
      "outputs": [
        {
          "output_type": "stream",
          "name": "stdout",
          "text": [
            "{1, 2, 3, 4, 5}\n"
          ]
        }
      ]
    },
    {
      "cell_type": "code",
      "source": [
        "#20. Write a code to find the intersection of two sets {1,2,3} and {2,3,4}.\n",
        "p = {1,2,3}\n",
        "q = {2,3,4}\n",
        "print(p.intersection(q))"
      ],
      "metadata": {
        "colab": {
          "base_uri": "https://localhost:8080/"
        },
        "id": "v91OWecGHiwk",
        "outputId": "e0674671-816f-4e91-9c83-b0788f97c3b8"
      },
      "execution_count": 91,
      "outputs": [
        {
          "output_type": "stream",
          "name": "stdout",
          "text": [
            "{2, 3}\n"
          ]
        }
      ]
    },
    {
      "cell_type": "code",
      "source": [
        "#21. Write a code to  create a dictionary with the keys \"name\", \"age\" and \"city\", and print it.\n",
        "person = {\"name\": \"Aarav\", \"age\": 15, \"city\": \"Delhi\"}\n",
        "print(person)"
      ],
      "metadata": {
        "colab": {
          "base_uri": "https://localhost:8080/"
        },
        "id": "T8tRbJ-oIdNh",
        "outputId": "967e0595-c1c9-4f32-9d5a-eb59f3d98f7c"
      },
      "execution_count": 92,
      "outputs": [
        {
          "output_type": "stream",
          "name": "stdout",
          "text": [
            "{'name': 'Aarav', 'age': 15, 'city': 'Delhi'}\n"
          ]
        }
      ]
    },
    {
      "cell_type": "code",
      "source": [
        "#22. Write a code to add a new key-value pair \"country\":\"USA\" to the dictionary {'name':'John', 'age':25}.\n",
        "person = {'name':'John', 'age':25}\n",
        "person[\"country\"] = \"USA\"\n",
        "print(person)"
      ],
      "metadata": {
        "colab": {
          "base_uri": "https://localhost:8080/"
        },
        "id": "RVSQG9geIdVs",
        "outputId": "d80692bf-dd74-4859-c9fb-a364610e4c5f"
      },
      "execution_count": 93,
      "outputs": [
        {
          "output_type": "stream",
          "name": "stdout",
          "text": [
            "{'name': 'John', 'age': 25, 'country': 'USA'}\n"
          ]
        }
      ]
    },
    {
      "cell_type": "code",
      "source": [
        "#23. Write a code to access the value associated with the key \"name\" in the dictionary {'name':'Alice', 'age':30}.\n",
        "person = {'name':'Alice', 'age':30}\n",
        "print(person[\"name\"])"
      ],
      "metadata": {
        "colab": {
          "base_uri": "https://localhost:8080/"
        },
        "id": "YtFFY3a3Ide8",
        "outputId": "e25a3593-3fbd-458b-e295-e1a79347ff02"
      },
      "execution_count": 94,
      "outputs": [
        {
          "output_type": "stream",
          "name": "stdout",
          "text": [
            "Alice\n"
          ]
        }
      ]
    },
    {
      "cell_type": "code",
      "source": [
        "#24. Write a code to remove the key \"age\" from the dictionary {'name':'Bob', 'age':22, 'city': 'New York'}.\n",
        "person = {'name':'Bob', 'age':22, 'city': 'New York'}\n",
        "del person[\"age\"]\n",
        "print(person)"
      ],
      "metadata": {
        "colab": {
          "base_uri": "https://localhost:8080/"
        },
        "id": "VAmMFGRhIdml",
        "outputId": "664414e6-e865-4ab4-e816-fae4fc413500"
      },
      "execution_count": 95,
      "outputs": [
        {
          "output_type": "stream",
          "name": "stdout",
          "text": [
            "{'name': 'Bob', 'city': 'New York'}\n"
          ]
        }
      ]
    },
    {
      "cell_type": "code",
      "source": [
        "#25. Write a code to check if the key \"city\" exists in the dictionary {'name':'Alice', 'city':'Paris'}.\n",
        "person = {'name':'Alice', 'city':'Paris'}\n",
        "print(\"city\" in person)"
      ],
      "metadata": {
        "colab": {
          "base_uri": "https://localhost:8080/"
        },
        "id": "6TNnQro0Idua",
        "outputId": "32a17e94-8f2e-4b14-fe86-2a479d2691f3"
      },
      "execution_count": 96,
      "outputs": [
        {
          "output_type": "stream",
          "name": "stdout",
          "text": [
            "True\n"
          ]
        }
      ]
    },
    {
      "cell_type": "code",
      "source": [
        "#26. Write a code to create a list, a tuple, and a dictionary, and print them all.\n",
        "lst1 = [1, 2, 3]\n",
        "tpl = (4, 5, 6)\n",
        "dictionary = {\"name\": \"Charvi\", \"age\": 1}\n",
        "print(lst1)\n",
        "print(tpl)\n",
        "print(dictionary)"
      ],
      "metadata": {
        "colab": {
          "base_uri": "https://localhost:8080/"
        },
        "id": "HOSBvFbbId2M",
        "outputId": "2cec2e80-7772-42a1-9047-1f1f7cd9ee8e"
      },
      "execution_count": 106,
      "outputs": [
        {
          "output_type": "stream",
          "name": "stdout",
          "text": [
            "[1, 2, 3]\n",
            "(4, 5, 6)\n",
            "{'name': 'Charvi', 'age': 1}\n"
          ]
        }
      ]
    },
    {
      "cell_type": "code",
      "source": [
        "#27. Write a code to create a list of 5 random numbers between 1 and 100, sort it in ascending order, and print the result. (replaced)\n",
        "import random\n",
        "numbers = [random.randint(1, 100) for _ in range(5)]\n",
        "numbers.sort()\n",
        "print(numbers)"
      ],
      "metadata": {
        "colab": {
          "base_uri": "https://localhost:8080/"
        },
        "id": "zn4o5SAAId-v",
        "outputId": "ecdf2c1e-d21e-4852-f333-58eab0a8e39b"
      },
      "execution_count": 98,
      "outputs": [
        {
          "output_type": "stream",
          "name": "stdout",
          "text": [
            "[28, 33, 35, 49, 98]\n"
          ]
        }
      ]
    },
    {
      "cell_type": "code",
      "source": [
        "#28. Write a code to create a list with the strings and print the element at the third index.\n",
        "vegetables = [\"tomato\", \"potato\", \"onion\", \"carrot\", \"cabbage\"]\n",
        "print(vegetables[3])\n"
      ],
      "metadata": {
        "colab": {
          "base_uri": "https://localhost:8080/"
        },
        "id": "XRiH0WfLIeHi",
        "outputId": "de46d7da-b150-4102-bda0-87fc287c862b"
      },
      "execution_count": 99,
      "outputs": [
        {
          "output_type": "stream",
          "name": "stdout",
          "text": [
            "carrot\n"
          ]
        }
      ]
    },
    {
      "cell_type": "code",
      "source": [
        "#29. Write a code to combine two dictionaries into one and print the result.\n",
        "dict1 = {\"name\": \"Rahul\", \"age\": 28}\n",
        "dict2 = {\"city\": \"Delhi\", \"country\": \"India\"}\n",
        "dict1.update(dict2)\n",
        "print(dict1)"
      ],
      "metadata": {
        "colab": {
          "base_uri": "https://localhost:8080/"
        },
        "id": "tX6W6TX8IePJ",
        "outputId": "90d98cbe-9616-4c4b-b608-9870e3740ca6"
      },
      "execution_count": 100,
      "outputs": [
        {
          "output_type": "stream",
          "name": "stdout",
          "text": [
            "{'name': 'Rahul', 'age': 28, 'city': 'Delhi', 'country': 'India'}\n"
          ]
        }
      ]
    },
    {
      "cell_type": "code",
      "source": [
        "#30. Write a code to convert a list of strings into a set.\n",
        "fruits = [\"apple\", \"banana\", \"mango\"]\n",
        "f = set(fruits)\n",
        "print(f)"
      ],
      "metadata": {
        "colab": {
          "base_uri": "https://localhost:8080/"
        },
        "id": "w9XttVrgIeWj",
        "outputId": "71f90da6-9e0e-4d9e-f4e6-99e56e70adc9"
      },
      "execution_count": 107,
      "outputs": [
        {
          "output_type": "stream",
          "name": "stdout",
          "text": [
            "{'banana', 'apple', 'mango'}\n"
          ]
        }
      ]
    }
  ]
}